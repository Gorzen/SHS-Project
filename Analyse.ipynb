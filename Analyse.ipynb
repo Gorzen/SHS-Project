{
 "cells": [
  {
   "cell_type": "markdown",
   "metadata": {
    "Collapsed": "false"
   },
   "source": [
    "# Projet SHS"
   ]
  },
  {
   "cell_type": "code",
   "execution_count": 1,
   "metadata": {
    "Collapsed": "false"
   },
   "outputs": [],
   "source": [
    "import numpy as np\n",
    "import math\n",
    "import pandas as pd\n",
    "import matplotlib.pyplot as plt\n",
    "import seaborn as sns"
   ]
  },
  {
   "cell_type": "markdown",
   "metadata": {
    "Collapsed": "false"
   },
   "source": [
    "## Loading and cleaning"
   ]
  },
  {
   "cell_type": "code",
   "execution_count": 2,
   "metadata": {
    "Collapsed": "false"
   },
   "outputs": [
    {
     "data": {
      "text/html": [
       "<div>\n",
       "<style scoped>\n",
       "    .dataframe tbody tr th:only-of-type {\n",
       "        vertical-align: middle;\n",
       "    }\n",
       "\n",
       "    .dataframe tbody tr th {\n",
       "        vertical-align: top;\n",
       "    }\n",
       "\n",
       "    .dataframe thead th {\n",
       "        text-align: right;\n",
       "    }\n",
       "</style>\n",
       "<table border=\"1\" class=\"dataframe\">\n",
       "  <thead>\n",
       "    <tr style=\"text-align: right;\">\n",
       "      <th></th>\n",
       "      <th>Unnamed: 0.1</th>\n",
       "      <th>sujet1</th>\n",
       "      <th>A</th>\n",
       "      <th>A.1</th>\n",
       "      <th>sujet2</th>\n",
       "      <th>A.2</th>\n",
       "      <th>B</th>\n",
       "      <th>sujet3</th>\n",
       "      <th>B.1</th>\n",
       "      <th>B.2</th>\n",
       "      <th>...</th>\n",
       "      <th>B.33</th>\n",
       "      <th>sujet 33</th>\n",
       "      <th>B.34</th>\n",
       "      <th>A.30</th>\n",
       "      <th>sujet 34</th>\n",
       "      <th>A.31</th>\n",
       "      <th>A.32</th>\n",
       "      <th>sujet 35</th>\n",
       "      <th>A.33</th>\n",
       "      <th>A.34</th>\n",
       "    </tr>\n",
       "  </thead>\n",
       "  <tbody>\n",
       "    <tr>\n",
       "      <th>0</th>\n",
       "      <td>NaN</td>\n",
       "      <td>ordre apparition</td>\n",
       "      <td>premier passage</td>\n",
       "      <td>deuxième passage</td>\n",
       "      <td>ordre apparition</td>\n",
       "      <td>premier passage</td>\n",
       "      <td>deuxième passage</td>\n",
       "      <td>ordre apparition</td>\n",
       "      <td>premier passage</td>\n",
       "      <td>deuxième passage</td>\n",
       "      <td>...</td>\n",
       "      <td>deuxième passage</td>\n",
       "      <td>ordre d'apparition</td>\n",
       "      <td>premier passage</td>\n",
       "      <td>deuxième passage</td>\n",
       "      <td>ordre d'apparition</td>\n",
       "      <td>premier passage</td>\n",
       "      <td>deuxième passage</td>\n",
       "      <td>ordre d'apparition</td>\n",
       "      <td>premier passage</td>\n",
       "      <td>deuxième passage</td>\n",
       "    </tr>\n",
       "    <tr>\n",
       "      <th>1</th>\n",
       "      <td>Ampoule</td>\n",
       "      <td>11</td>\n",
       "      <td>NaN</td>\n",
       "      <td>NaN</td>\n",
       "      <td>8</td>\n",
       "      <td>5</td>\n",
       "      <td>3</td>\n",
       "      <td>3</td>\n",
       "      <td>NaN</td>\n",
       "      <td>NaN</td>\n",
       "      <td>...</td>\n",
       "      <td>NaN</td>\n",
       "      <td>20</td>\n",
       "      <td>1</td>\n",
       "      <td>1</td>\n",
       "      <td>10</td>\n",
       "      <td>NaN</td>\n",
       "      <td>NaN</td>\n",
       "      <td>4</td>\n",
       "      <td>NaN</td>\n",
       "      <td>NaN</td>\n",
       "    </tr>\n",
       "    <tr>\n",
       "      <th>2</th>\n",
       "      <td>Ananas</td>\n",
       "      <td>18</td>\n",
       "      <td>13</td>\n",
       "      <td>5</td>\n",
       "      <td>16</td>\n",
       "      <td>NaN</td>\n",
       "      <td>NaN</td>\n",
       "      <td>1</td>\n",
       "      <td>1</td>\n",
       "      <td>1</td>\n",
       "      <td>...</td>\n",
       "      <td>9</td>\n",
       "      <td>11</td>\n",
       "      <td>NaN</td>\n",
       "      <td>11</td>\n",
       "      <td>2</td>\n",
       "      <td>10</td>\n",
       "      <td>6</td>\n",
       "      <td>2</td>\n",
       "      <td>5</td>\n",
       "      <td>8</td>\n",
       "    </tr>\n",
       "    <tr>\n",
       "      <th>3</th>\n",
       "      <td>Bottes</td>\n",
       "      <td>2</td>\n",
       "      <td>2</td>\n",
       "      <td>11</td>\n",
       "      <td>2</td>\n",
       "      <td>10</td>\n",
       "      <td>NaN</td>\n",
       "      <td>11</td>\n",
       "      <td>NaN</td>\n",
       "      <td>NaN</td>\n",
       "      <td>...</td>\n",
       "      <td>4</td>\n",
       "      <td>14</td>\n",
       "      <td>NaN</td>\n",
       "      <td>NaN</td>\n",
       "      <td>15</td>\n",
       "      <td>8</td>\n",
       "      <td>5</td>\n",
       "      <td>18</td>\n",
       "      <td>NaN</td>\n",
       "      <td>NaN</td>\n",
       "    </tr>\n",
       "    <tr>\n",
       "      <th>4</th>\n",
       "      <td>Bouteille</td>\n",
       "      <td>20</td>\n",
       "      <td>8</td>\n",
       "      <td>12</td>\n",
       "      <td>13</td>\n",
       "      <td>NaN</td>\n",
       "      <td>NaN</td>\n",
       "      <td>14</td>\n",
       "      <td>NaN</td>\n",
       "      <td>NaN</td>\n",
       "      <td>...</td>\n",
       "      <td>NaN</td>\n",
       "      <td>2</td>\n",
       "      <td>NaN</td>\n",
       "      <td>NaN</td>\n",
       "      <td>7</td>\n",
       "      <td>NaN</td>\n",
       "      <td>NaN</td>\n",
       "      <td>15</td>\n",
       "      <td>NaN</td>\n",
       "      <td>NaN</td>\n",
       "    </tr>\n",
       "    <tr>\n",
       "      <th>5</th>\n",
       "      <td>Briquet</td>\n",
       "      <td>4</td>\n",
       "      <td>NaN</td>\n",
       "      <td>NaN</td>\n",
       "      <td>4</td>\n",
       "      <td>NaN</td>\n",
       "      <td>NaN</td>\n",
       "      <td>8</td>\n",
       "      <td>NaN</td>\n",
       "      <td>NaN</td>\n",
       "      <td>...</td>\n",
       "      <td>NaN</td>\n",
       "      <td>6</td>\n",
       "      <td>10</td>\n",
       "      <td>8</td>\n",
       "      <td>16</td>\n",
       "      <td>NaN</td>\n",
       "      <td>11</td>\n",
       "      <td>9</td>\n",
       "      <td>NaN</td>\n",
       "      <td>NaN</td>\n",
       "    </tr>\n",
       "    <tr>\n",
       "      <th>6</th>\n",
       "      <td>Calculatrice</td>\n",
       "      <td>19</td>\n",
       "      <td>9</td>\n",
       "      <td>8</td>\n",
       "      <td>18</td>\n",
       "      <td>NaN</td>\n",
       "      <td>NaN</td>\n",
       "      <td>6</td>\n",
       "      <td>NaN</td>\n",
       "      <td>NaN</td>\n",
       "      <td>...</td>\n",
       "      <td>2</td>\n",
       "      <td>13</td>\n",
       "      <td>NaN</td>\n",
       "      <td>NaN</td>\n",
       "      <td>3</td>\n",
       "      <td>NaN</td>\n",
       "      <td>NaN</td>\n",
       "      <td>12</td>\n",
       "      <td>NaN</td>\n",
       "      <td>NaN</td>\n",
       "    </tr>\n",
       "    <tr>\n",
       "      <th>7</th>\n",
       "      <td>Camion</td>\n",
       "      <td>15</td>\n",
       "      <td>7</td>\n",
       "      <td>7</td>\n",
       "      <td>7</td>\n",
       "      <td>2</td>\n",
       "      <td>4</td>\n",
       "      <td>17</td>\n",
       "      <td>4</td>\n",
       "      <td>5</td>\n",
       "      <td>...</td>\n",
       "      <td>NaN</td>\n",
       "      <td>8</td>\n",
       "      <td>8</td>\n",
       "      <td>3</td>\n",
       "      <td>11</td>\n",
       "      <td>9</td>\n",
       "      <td>7</td>\n",
       "      <td>13</td>\n",
       "      <td>10</td>\n",
       "      <td>3</td>\n",
       "    </tr>\n",
       "    <tr>\n",
       "      <th>8</th>\n",
       "      <td>Ciseaux</td>\n",
       "      <td>1</td>\n",
       "      <td>1</td>\n",
       "      <td>1</td>\n",
       "      <td>15</td>\n",
       "      <td>NaN</td>\n",
       "      <td>NaN</td>\n",
       "      <td>10</td>\n",
       "      <td>NaN</td>\n",
       "      <td>NaN</td>\n",
       "      <td>...</td>\n",
       "      <td>5</td>\n",
       "      <td>19</td>\n",
       "      <td>2</td>\n",
       "      <td>NaN</td>\n",
       "      <td>5</td>\n",
       "      <td>6</td>\n",
       "      <td>NaN</td>\n",
       "      <td>16</td>\n",
       "      <td>9</td>\n",
       "      <td>7</td>\n",
       "    </tr>\n",
       "    <tr>\n",
       "      <th>9</th>\n",
       "      <td>Classeur</td>\n",
       "      <td>7</td>\n",
       "      <td>11</td>\n",
       "      <td>3</td>\n",
       "      <td>11</td>\n",
       "      <td>7</td>\n",
       "      <td>8</td>\n",
       "      <td>4</td>\n",
       "      <td>NaN</td>\n",
       "      <td>NaN</td>\n",
       "      <td>...</td>\n",
       "      <td>6</td>\n",
       "      <td>10</td>\n",
       "      <td>12</td>\n",
       "      <td>4</td>\n",
       "      <td>4</td>\n",
       "      <td>2</td>\n",
       "      <td>2</td>\n",
       "      <td>8</td>\n",
       "      <td>8</td>\n",
       "      <td>1</td>\n",
       "    </tr>\n",
       "    <tr>\n",
       "      <th>10</th>\n",
       "      <td>Horloge</td>\n",
       "      <td>14</td>\n",
       "      <td>5</td>\n",
       "      <td>10</td>\n",
       "      <td>14</td>\n",
       "      <td>NaN</td>\n",
       "      <td>NaN</td>\n",
       "      <td>16</td>\n",
       "      <td>NaN</td>\n",
       "      <td>NaN</td>\n",
       "      <td>...</td>\n",
       "      <td>1</td>\n",
       "      <td>9</td>\n",
       "      <td>7</td>\n",
       "      <td>12</td>\n",
       "      <td>18</td>\n",
       "      <td>7</td>\n",
       "      <td>4</td>\n",
       "      <td>5</td>\n",
       "      <td>NaN</td>\n",
       "      <td>NaN</td>\n",
       "    </tr>\n",
       "    <tr>\n",
       "      <th>11</th>\n",
       "      <td>Lampe de poche</td>\n",
       "      <td>5</td>\n",
       "      <td>NaN</td>\n",
       "      <td>NaN</td>\n",
       "      <td>19</td>\n",
       "      <td>NaN</td>\n",
       "      <td>6</td>\n",
       "      <td>13</td>\n",
       "      <td>NaN</td>\n",
       "      <td>8</td>\n",
       "      <td>...</td>\n",
       "      <td>NaN</td>\n",
       "      <td>12</td>\n",
       "      <td>NaN</td>\n",
       "      <td>NaN</td>\n",
       "      <td>9</td>\n",
       "      <td>NaN</td>\n",
       "      <td>NaN</td>\n",
       "      <td>14</td>\n",
       "      <td>NaN</td>\n",
       "      <td>NaN</td>\n",
       "    </tr>\n",
       "    <tr>\n",
       "      <th>12</th>\n",
       "      <td>Livre</td>\n",
       "      <td>12</td>\n",
       "      <td>10</td>\n",
       "      <td>9</td>\n",
       "      <td>1</td>\n",
       "      <td>2</td>\n",
       "      <td>1</td>\n",
       "      <td>7</td>\n",
       "      <td>NaN</td>\n",
       "      <td>NaN</td>\n",
       "      <td>...</td>\n",
       "      <td>7</td>\n",
       "      <td>17</td>\n",
       "      <td>5</td>\n",
       "      <td>NaN</td>\n",
       "      <td>14</td>\n",
       "      <td>NaN</td>\n",
       "      <td>NaN</td>\n",
       "      <td>3</td>\n",
       "      <td>7</td>\n",
       "      <td>2</td>\n",
       "    </tr>\n",
       "    <tr>\n",
       "      <th>13</th>\n",
       "      <td>Marteau</td>\n",
       "      <td>10</td>\n",
       "      <td>NaN</td>\n",
       "      <td>NaN</td>\n",
       "      <td>20</td>\n",
       "      <td>4</td>\n",
       "      <td>NaN</td>\n",
       "      <td>9</td>\n",
       "      <td>7</td>\n",
       "      <td>3</td>\n",
       "      <td>...</td>\n",
       "      <td>NaN</td>\n",
       "      <td>1</td>\n",
       "      <td>9</td>\n",
       "      <td>7</td>\n",
       "      <td>6</td>\n",
       "      <td>5</td>\n",
       "      <td>9</td>\n",
       "      <td>10</td>\n",
       "      <td>3</td>\n",
       "      <td>5</td>\n",
       "    </tr>\n",
       "    <tr>\n",
       "      <th>14</th>\n",
       "      <td>Poêle</td>\n",
       "      <td>17</td>\n",
       "      <td>12</td>\n",
       "      <td>4</td>\n",
       "      <td>6</td>\n",
       "      <td>3</td>\n",
       "      <td>2</td>\n",
       "      <td>20</td>\n",
       "      <td>3</td>\n",
       "      <td>7</td>\n",
       "      <td>...</td>\n",
       "      <td>NaN</td>\n",
       "      <td>15</td>\n",
       "      <td>4</td>\n",
       "      <td>9</td>\n",
       "      <td>1</td>\n",
       "      <td>NaN</td>\n",
       "      <td>NaN</td>\n",
       "      <td>1</td>\n",
       "      <td>NaN</td>\n",
       "      <td>NaN</td>\n",
       "    </tr>\n",
       "    <tr>\n",
       "      <th>15</th>\n",
       "      <td>Pomme</td>\n",
       "      <td>3</td>\n",
       "      <td>3</td>\n",
       "      <td>2</td>\n",
       "      <td>9</td>\n",
       "      <td>6</td>\n",
       "      <td>5</td>\n",
       "      <td>2</td>\n",
       "      <td>2</td>\n",
       "      <td>2</td>\n",
       "      <td>...</td>\n",
       "      <td>8</td>\n",
       "      <td>5</td>\n",
       "      <td>NaN</td>\n",
       "      <td>10</td>\n",
       "      <td>8</td>\n",
       "      <td>NaN</td>\n",
       "      <td>NaN</td>\n",
       "      <td>7</td>\n",
       "      <td>NaN</td>\n",
       "      <td>9</td>\n",
       "    </tr>\n",
       "    <tr>\n",
       "      <th>16</th>\n",
       "      <td>Scotch</td>\n",
       "      <td>13</td>\n",
       "      <td>6</td>\n",
       "      <td>NaN</td>\n",
       "      <td>17</td>\n",
       "      <td>NaN</td>\n",
       "      <td>NaN</td>\n",
       "      <td>15</td>\n",
       "      <td>NaN</td>\n",
       "      <td>NaN</td>\n",
       "      <td>...</td>\n",
       "      <td>3</td>\n",
       "      <td>18</td>\n",
       "      <td>NaN</td>\n",
       "      <td>NaN</td>\n",
       "      <td>19</td>\n",
       "      <td>4</td>\n",
       "      <td>NaN</td>\n",
       "      <td>19</td>\n",
       "      <td>2</td>\n",
       "      <td>NaN</td>\n",
       "    </tr>\n",
       "    <tr>\n",
       "      <th>17</th>\n",
       "      <td>Tasse</td>\n",
       "      <td>6</td>\n",
       "      <td>NaN</td>\n",
       "      <td>13</td>\n",
       "      <td>10</td>\n",
       "      <td>NaN</td>\n",
       "      <td>NaN</td>\n",
       "      <td>5</td>\n",
       "      <td>NaN</td>\n",
       "      <td>NaN</td>\n",
       "      <td>...</td>\n",
       "      <td>NaN</td>\n",
       "      <td>16</td>\n",
       "      <td>11</td>\n",
       "      <td>5</td>\n",
       "      <td>20</td>\n",
       "      <td>1</td>\n",
       "      <td>8</td>\n",
       "      <td>6</td>\n",
       "      <td>NaN</td>\n",
       "      <td>NaN</td>\n",
       "    </tr>\n",
       "    <tr>\n",
       "      <th>18</th>\n",
       "      <td>Telephone</td>\n",
       "      <td>9</td>\n",
       "      <td>NaN</td>\n",
       "      <td>NaN</td>\n",
       "      <td>3</td>\n",
       "      <td>NaN</td>\n",
       "      <td>NaN</td>\n",
       "      <td>19</td>\n",
       "      <td>NaN</td>\n",
       "      <td>NaN</td>\n",
       "      <td>...</td>\n",
       "      <td>NaN</td>\n",
       "      <td>3</td>\n",
       "      <td>NaN</td>\n",
       "      <td>NaN</td>\n",
       "      <td>17</td>\n",
       "      <td>NaN</td>\n",
       "      <td>NaN</td>\n",
       "      <td>20</td>\n",
       "      <td>1</td>\n",
       "      <td>6</td>\n",
       "    </tr>\n",
       "    <tr>\n",
       "      <th>19</th>\n",
       "      <td>Théière</td>\n",
       "      <td>8</td>\n",
       "      <td>NaN</td>\n",
       "      <td>14</td>\n",
       "      <td>12</td>\n",
       "      <td>9</td>\n",
       "      <td>7</td>\n",
       "      <td>18</td>\n",
       "      <td>5</td>\n",
       "      <td>6</td>\n",
       "      <td>...</td>\n",
       "      <td>NaN</td>\n",
       "      <td>4</td>\n",
       "      <td>6</td>\n",
       "      <td>6</td>\n",
       "      <td>12</td>\n",
       "      <td>3</td>\n",
       "      <td>3</td>\n",
       "      <td>17</td>\n",
       "      <td>6</td>\n",
       "      <td>NaN</td>\n",
       "    </tr>\n",
       "    <tr>\n",
       "      <th>20</th>\n",
       "      <td>Tournevis</td>\n",
       "      <td>16</td>\n",
       "      <td>4</td>\n",
       "      <td>6</td>\n",
       "      <td>5</td>\n",
       "      <td>8</td>\n",
       "      <td>9</td>\n",
       "      <td>12</td>\n",
       "      <td>6</td>\n",
       "      <td>4</td>\n",
       "      <td>...</td>\n",
       "      <td>NaN</td>\n",
       "      <td>7</td>\n",
       "      <td>3</td>\n",
       "      <td>2</td>\n",
       "      <td>13</td>\n",
       "      <td>NaN</td>\n",
       "      <td>10</td>\n",
       "      <td>11</td>\n",
       "      <td>4</td>\n",
       "      <td>4</td>\n",
       "    </tr>\n",
       "  </tbody>\n",
       "</table>\n",
       "<p>21 rows × 106 columns</p>\n",
       "</div>"
      ],
      "text/plain": [
       "      Unnamed: 0.1            sujet1                A               A.1  \\\n",
       "0              NaN  ordre apparition  premier passage  deuxième passage   \n",
       "1          Ampoule                11              NaN               NaN   \n",
       "2           Ananas                18               13                 5   \n",
       "3           Bottes                 2                2                11   \n",
       "4        Bouteille                20                8                12   \n",
       "5          Briquet                 4              NaN               NaN   \n",
       "6     Calculatrice                19                9                 8   \n",
       "7           Camion                15                7                 7   \n",
       "8          Ciseaux                 1                1                 1   \n",
       "9         Classeur                 7               11                 3   \n",
       "10         Horloge                14                5                10   \n",
       "11  Lampe de poche                 5              NaN               NaN   \n",
       "12           Livre                12               10                 9   \n",
       "13         Marteau                10              NaN               NaN   \n",
       "14           Poêle                17               12                 4   \n",
       "15           Pomme                 3                3                 2   \n",
       "16          Scotch                13                6               NaN   \n",
       "17           Tasse                 6              NaN                13   \n",
       "18       Telephone                 9              NaN               NaN   \n",
       "19         Théière                 8              NaN                14   \n",
       "20       Tournevis                16                4                 6   \n",
       "\n",
       "              sujet2              A.2                 B            sujet3  \\\n",
       "0   ordre apparition  premier passage  deuxième passage  ordre apparition   \n",
       "1                  8                5                 3                 3   \n",
       "2                 16              NaN               NaN                 1   \n",
       "3                  2               10               NaN                11   \n",
       "4                 13              NaN               NaN                14   \n",
       "5                  4              NaN               NaN                 8   \n",
       "6                 18              NaN               NaN                 6   \n",
       "7                  7                2                 4                17   \n",
       "8                 15              NaN               NaN                10   \n",
       "9                 11                7                 8                 4   \n",
       "10                14              NaN               NaN                16   \n",
       "11                19              NaN                 6                13   \n",
       "12                 1                2                 1                 7   \n",
       "13                20                4               NaN                 9   \n",
       "14                 6                3                 2                20   \n",
       "15                 9                6                 5                 2   \n",
       "16                17              NaN               NaN                15   \n",
       "17                10              NaN               NaN                 5   \n",
       "18                 3              NaN               NaN                19   \n",
       "19                12                9                 7                18   \n",
       "20                 5                8                 9                12   \n",
       "\n",
       "                B.1               B.2  ...              B.33  \\\n",
       "0   premier passage  deuxième passage  ...  deuxième passage   \n",
       "1               NaN               NaN  ...               NaN   \n",
       "2                 1                 1  ...                 9   \n",
       "3               NaN               NaN  ...                 4   \n",
       "4               NaN               NaN  ...               NaN   \n",
       "5               NaN               NaN  ...               NaN   \n",
       "6               NaN               NaN  ...                 2   \n",
       "7                 4                 5  ...               NaN   \n",
       "8               NaN               NaN  ...                 5   \n",
       "9               NaN               NaN  ...                 6   \n",
       "10              NaN               NaN  ...                 1   \n",
       "11              NaN                 8  ...               NaN   \n",
       "12              NaN               NaN  ...                 7   \n",
       "13                7                 3  ...               NaN   \n",
       "14                3                 7  ...               NaN   \n",
       "15                2                 2  ...                 8   \n",
       "16              NaN               NaN  ...                 3   \n",
       "17              NaN               NaN  ...               NaN   \n",
       "18              NaN               NaN  ...               NaN   \n",
       "19                5                 6  ...               NaN   \n",
       "20                6                 4  ...               NaN   \n",
       "\n",
       "              sujet 33             B.34              A.30            sujet 34  \\\n",
       "0   ordre d'apparition  premier passage  deuxième passage  ordre d'apparition   \n",
       "1                   20                1                 1                  10   \n",
       "2                   11              NaN                11                   2   \n",
       "3                   14              NaN               NaN                  15   \n",
       "4                    2              NaN               NaN                   7   \n",
       "5                    6               10                 8                  16   \n",
       "6                   13              NaN               NaN                   3   \n",
       "7                    8                8                 3                  11   \n",
       "8                   19                2               NaN                   5   \n",
       "9                   10               12                 4                   4   \n",
       "10                   9                7                12                  18   \n",
       "11                  12              NaN               NaN                   9   \n",
       "12                  17                5               NaN                  14   \n",
       "13                   1                9                 7                   6   \n",
       "14                  15                4                 9                   1   \n",
       "15                   5              NaN                10                   8   \n",
       "16                  18              NaN               NaN                  19   \n",
       "17                  16               11                 5                  20   \n",
       "18                   3              NaN               NaN                  17   \n",
       "19                   4                6                 6                  12   \n",
       "20                   7                3                 2                  13   \n",
       "\n",
       "               A.31              A.32            sujet 35             A.33  \\\n",
       "0   premier passage  deuxième passage  ordre d'apparition  premier passage   \n",
       "1               NaN               NaN                   4              NaN   \n",
       "2                10                 6                   2                5   \n",
       "3                 8                 5                  18              NaN   \n",
       "4               NaN               NaN                  15              NaN   \n",
       "5               NaN                11                   9              NaN   \n",
       "6               NaN               NaN                  12              NaN   \n",
       "7                 9                 7                  13               10   \n",
       "8                 6               NaN                  16                9   \n",
       "9                 2                 2                   8                8   \n",
       "10                7                 4                   5              NaN   \n",
       "11              NaN               NaN                  14              NaN   \n",
       "12              NaN               NaN                   3                7   \n",
       "13                5                 9                  10                3   \n",
       "14              NaN               NaN                   1              NaN   \n",
       "15              NaN               NaN                   7              NaN   \n",
       "16                4               NaN                  19                2   \n",
       "17                1                 8                   6              NaN   \n",
       "18              NaN               NaN                  20                1   \n",
       "19                3                 3                  17                6   \n",
       "20              NaN                10                  11                4   \n",
       "\n",
       "                A.34  \n",
       "0   deuxième passage  \n",
       "1                NaN  \n",
       "2                  8  \n",
       "3                NaN  \n",
       "4                NaN  \n",
       "5                NaN  \n",
       "6                NaN  \n",
       "7                  3  \n",
       "8                  7  \n",
       "9                  1  \n",
       "10               NaN  \n",
       "11               NaN  \n",
       "12                 2  \n",
       "13                 5  \n",
       "14               NaN  \n",
       "15                 9  \n",
       "16               NaN  \n",
       "17               NaN  \n",
       "18                 6  \n",
       "19               NaN  \n",
       "20                 4  \n",
       "\n",
       "[21 rows x 106 columns]"
      ]
     },
     "execution_count": 2,
     "metadata": {},
     "output_type": "execute_result"
    }
   ],
   "source": [
    "# Load data\n",
    "num_subjects = pd.read_csv('data/results.csv')\n",
    "results = pd.read_csv('data/results.csv')\n",
    "results"
   ]
  },
  {
   "cell_type": "markdown",
   "metadata": {
    "Collapsed": "false"
   },
   "source": [
    "## Idées analyses"
   ]
  },
  {
   "cell_type": "markdown",
   "metadata": {
    "Collapsed": "false"
   },
   "source": [
    "### 1. Regarder si le changement de contexte a un impact sur les performances"
   ]
  },
  {
   "cell_type": "code",
   "execution_count": 3,
   "metadata": {
    "Collapsed": "false"
   },
   "outputs": [
    {
     "data": {
      "image/png": "[encoded data removed]",
      "text/plain": [
       "<Figure size 720x576 with 1 Axes>"
      ]
     },
     "metadata": {
      "needs_background": "light"
     },
     "output_type": "display_data"
    }
   ],
   "source": [
    "gen = results.T.iterrows()\n",
    "\n",
    "next(gen)\n",
    "next(gen)\n",
    "\n",
    "items = results.loc[1:, results.columns[0]]\n",
    "\n",
    "scores_change = []\n",
    "scores_same = []\n",
    "scores_tot_change = []\n",
    "scores_tot_same = []\n",
    "\n",
    "for i, row in gen:\n",
    "    first = row.iloc[1:]\n",
    "    second = next(gen)[1].iloc[1:]\n",
    "    \n",
    "    env_first = 'A' if 'A' in first.name else 'B'\n",
    "    env_second = 'A' if 'A' in second.name else 'B'\n",
    "    change = env_first != env_second\n",
    "    \n",
    "    first.index = items\n",
    "    second.index = items\n",
    "    \n",
    "    first = list(first[~first.isnull()].index)\n",
    "    second = list(second[~second.isnull()].index)\n",
    "    \n",
    "    score_tot = len(second)\n",
    "    \n",
    "    second = [item for item in second if item in first]\n",
    "    \n",
    "    score = len(second)\n",
    "    \n",
    "    if change:\n",
    "        scores_change.append(score)\n",
    "        scores_tot_change.append(score_tot)\n",
    "    else:\n",
    "        scores_same.append(score)\n",
    "        scores_tot_same.append(score_tot)\n",
    "    \n",
    "    # Skip apparition\n",
    "    next(gen, None)\n",
    "\n",
    "min_ = np.min(scores_tot_change + scores_tot_same)\n",
    "max_ = np.max(scores_tot_change + scores_tot_same)\n",
    "x = list(range(min_, max_+1))\n",
    "\n",
    "scores_tot_change = np.array(scores_tot_change)\n",
    "scores_tot_same = np.array(scores_tot_same)\n",
    "\n",
    "heights_change = [len(scores_tot_change[scores_tot_change == value]) for value in x]\n",
    "heights_same = [len(scores_tot_same[scores_tot_same == value]) for value in x]\n",
    "    \n",
    "plt.figure(figsize=(10,8))\n",
    "plt.bar(x, heights_change, label='Changement contexte', alpha=0.5)\n",
    "plt.bar(x, heights_same, label='Même contexte', alpha=0.5)\n",
    "plt.xticks(x)\n",
    "plt.legend()\n",
    "plt.title(\"Nombre d'objets rappelés lors du deuxième rappel\")\n",
    "plt.xlabel(\"Nombre d'objets\")\n",
    "plt.ylabel(\"Nombre\")\n",
    "plt.show()"
   ]
  },
  {
   "cell_type": "markdown",
   "metadata": {},
   "source": [
    "Boxplot avec moyenne et std"
   ]
  },
  {
   "cell_type": "code",
   "execution_count": 4,
   "metadata": {
    "Collapsed": "false"
   },
   "outputs": [
    {
     "data": {
      "image/png": "[encoded data removed]",
      "text/plain": [
       "<Figure size 720x576 with 1 Axes>"
      ]
     },
     "metadata": {
      "needs_background": "light"
     },
     "output_type": "display_data"
    }
   ],
   "source": [
    "min_ = np.min(scores_change + scores_same)\n",
    "max_ = np.max(scores_change + scores_same)\n",
    "x = list(range(min_, max_+1))\n",
    "\n",
    "scores_change = np.array(scores_change)\n",
    "scores_same = np.array(scores_same)\n",
    "\n",
    "heights_change = [len(scores_change[scores_change == value]) for value in x]\n",
    "heights_same = [len(scores_same[scores_same == value]) for value in x]\n",
    "    \n",
    "plt.figure(figsize=(10,8))\n",
    "plt.bar(x, heights_change, label='Changement contexte', alpha=0.5)\n",
    "plt.bar(x, heights_same, label='Même contexte', alpha=0.5)\n",
    "plt.xticks(x)\n",
    "plt.legend()\n",
    "plt.title(\"Nombre d'objets rappelés aux deuxième rappels déjà rappelés lors du premier rappel\")\n",
    "plt.xlabel(\"Nombre d'objets\")\n",
    "plt.ylabel(\"Nombre\")\n",
    "plt.show()"
   ]
  },
  {
   "cell_type": "markdown",
   "metadata": {
    "Collapsed": "false"
   },
   "source": [
    "### 2. Regarder à quel points ils se rappellent des mêmes objets pendant les deux phases de rappel"
   ]
  },
  {
   "cell_type": "code",
   "execution_count": 5,
   "metadata": {
    "Collapsed": "false"
   },
   "outputs": [
    {
     "data": {
      "image/png": "[encoded data removed]",
      "text/plain": [
       "<Figure size 720x576 with 1 Axes>"
      ]
     },
     "metadata": {
      "needs_background": "light"
     },
     "output_type": "display_data"
    }
   ],
   "source": [
    "gen = results.T.iterrows()\n",
    "\n",
    "next(gen)\n",
    "next(gen)\n",
    "\n",
    "items = results.loc[1:, results.columns[0]]\n",
    "\n",
    "scores = []\n",
    "\n",
    "for i, row in gen:\n",
    "    first = row.iloc[1:]\n",
    "    second = next(gen)[1].iloc[1:]\n",
    "    \n",
    "    first.index = items\n",
    "    second.index = items\n",
    "    \n",
    "    first = set(first[~first.isnull()].index)\n",
    "    second = set(second[~second.isnull()].index)\n",
    "    \n",
    "    score = len(second - first)/len(second)\n",
    "    scores.append(score)\n",
    "    \n",
    "    # Skip apparition\n",
    "    next(gen, None)\n",
    "    \n",
    "plt.figure(figsize=(10,8))\n",
    "plt.hist(1 - np.array(scores), bins=4)\n",
    "plt.xlim((0, 1))\n",
    "plt.title(\"Proportion des objets rappelés lors du deuxième rappel qui figuraient dans le premier\")\n",
    "plt.xlabel(\"Pourcentage\")\n",
    "plt.ylabel(\"Nombre\")\n",
    "plt.show()"
   ]
  },
  {
   "cell_type": "markdown",
   "metadata": {
    "Collapsed": "false"
   },
   "source": [
    "### 3. Regarder s'ils se rappellent d'autant d'objets les deux fois"
   ]
  },
  {
   "cell_type": "code",
   "execution_count": 6,
   "metadata": {
    "Collapsed": "false"
   },
   "outputs": [
    {
     "data": {
      "image/png": "[encoded data removed]",
      "text/plain": [
       "<Figure size 720x576 with 1 Axes>"
      ]
     },
     "metadata": {
      "needs_background": "light"
     },
     "output_type": "display_data"
    }
   ],
   "source": [
    "gen = results.T.iterrows()\n",
    "\n",
    "next(gen)\n",
    "next(gen)\n",
    "\n",
    "scores = []\n",
    "\n",
    "for i, row in gen:\n",
    "    first = row.iloc[1:]\n",
    "    second = next(gen)[1].iloc[1:]\n",
    "    \n",
    "    first = len(first[~first.isnull()])\n",
    "    second = len(second[~second.isnull()])\n",
    "    \n",
    "    if second-first==-9:\n",
    "        print(i)\n",
    "    \n",
    "    scores.append(second - first)\n",
    "    \n",
    "    # Skip apparition\n",
    "    next(gen, None)\n",
    "    \n",
    "plt.figure(figsize=(10,8))\n",
    "plt.hist(scores, bins=np.max(scores)-np.min(scores)+1)\n",
    "plt.title(\"Différence d'objets rappelés entre le deuxième rappel et le premier\")\n",
    "plt.xlabel(\"Différence\")\n",
    "plt.ylabel(\"Nombre\")\n",
    "plt.show()"
   ]
  },
  {
   "cell_type": "markdown",
   "metadata": {
    "Collapsed": "false"
   },
   "source": [
    "Une différence négative de par exemple -2 veut dire que la personne s'est rappelé de 2 objets de moins au deuxième passage"
   ]
  },
  {
   "cell_type": "markdown",
   "metadata": {
    "Collapsed": "false"
   },
   "source": [
    "### 4. Regarder si l'ordre de rappel et d'appartition sont similaires (l'endroit, l'envers, ...) - entre l'apparaition et le premier rappel, apparition et deuxième rappel, premier rappel et deuxième rappel"
   ]
  },
  {
   "cell_type": "code",
   "execution_count": 7,
   "metadata": {
    "Collapsed": "false"
   },
   "outputs": [],
   "source": [
    "# https://stackoverflow.com/questions/24547641/python-length-of-longest-common-subsequence-of-lists\n",
    "def lcs_length(a, b):\n",
    "    table = [[0] * (len(b) + 1) for _ in range(len(a) + 1)]\n",
    "    for i, ca in enumerate(a, 1):\n",
    "        for j, cb in enumerate(b, 1):\n",
    "            table[i][j] = (\n",
    "                table[i - 1][j - 1] + 1 if ca == cb else\n",
    "                max(table[i][j - 1], table[i - 1][j]))\n",
    "    return table[-1][-1]"
   ]
  },
  {
   "cell_type": "code",
   "execution_count": 8,
   "metadata": {
    "Collapsed": "false"
   },
   "outputs": [],
   "source": [
    "gen = results.T.iterrows()\n",
    "\n",
    "next(gen)\n",
    "next(gen)\n",
    "\n",
    "items = results.loc[1:, results.columns[0]]\n",
    "\n",
    "scores = []\n",
    "\n",
    "for i, row in gen:\n",
    "    first = row.iloc[1:]\n",
    "    second = next(gen)[1].iloc[1:]\n",
    "    \n",
    "    first.index = items\n",
    "    second.index = items\n",
    "    \n",
    "    first = first[~first.isnull()].astype(int)\n",
    "    first.sort_values(inplace=True)\n",
    "    first = list(first.index)\n",
    "    \n",
    "    second = second[~second.isnull()].astype(int)\n",
    "    second.sort_values(inplace=True)\n",
    "    second = list(second.index)\n",
    "    \n",
    "    first = [item for item in first if item in second]\n",
    "    second = [item for item in second if item in first]\n",
    "\n",
    "    score = lcs_length(first, second)\n",
    "    scores.append(score)\n",
    "    \n",
    "    # Skip apparition\n",
    "    next(gen, None)"
   ]
  },
  {
   "cell_type": "code",
   "execution_count": 9,
   "metadata": {
    "Collapsed": "false"
   },
   "outputs": [
    {
     "data": {
      "image/png": "[encoded data removed]",
      "text/plain": [
       "<Figure size 720x576 with 1 Axes>"
      ]
     },
     "metadata": {
      "needs_background": "light"
     },
     "output_type": "display_data"
    }
   ],
   "source": [
    "np.random.seed(1)\n",
    "sizes = [9, 10, 11, 12, 13]\n",
    "items = results.loc[1:, results.columns[0]]\n",
    "\n",
    "scores_random = []\n",
    "\n",
    "for _ in range(len(scores)):\n",
    "    first = np.random.choice(items.values, size=np.random.choice(sizes), replace=False)\n",
    "    second = np.random.choice(items.values, size=np.random.choice(sizes), replace=False)\n",
    "    \n",
    "    first = [item for item in first if item in second]\n",
    "    second = [item for item in second if item in first]\n",
    "\n",
    "    score = lcs_length(first, second)\n",
    "    scores_random.append(score)\n",
    "    \n",
    "scores = np.array(scores)\n",
    "scores_random = np.array(scores_random)\n",
    "\n",
    "x = np.arange(np.max(scores)+1)\n",
    "heights = [len(scores[scores == value]) for value in x]\n",
    "heights_random = [len(scores_random[scores_random == value]) for value in x]\n",
    "\n",
    "plt.figure(figsize=(10,8))\n",
    "plt.bar(x, heights, label='Données recoltées', alpha=0.5)\n",
    "plt.bar(x, heights_random, label='Aléatoire', alpha=0.5)\n",
    "plt.xticks(x)\n",
    "plt.legend()\n",
    "plt.title(\"Similarité de l'ordre entre les deux rappels, comparée à l'aléatoire\")\n",
    "plt.xlabel(\"Similarité\")\n",
    "plt.ylabel(\"Nombre\")\n",
    "plt.show()"
   ]
  },
  {
   "cell_type": "markdown",
   "metadata": {
    "Collapsed": "false"
   },
   "source": [
    "Pour calculer la similarité on calcule la taille de la plus grande sub-list ordrée où l'on permet les oublis.\n",
    "\n",
    "On peut voir qu'il y a un taut de similarité plus important qu'avec l'aléatoire."
   ]
  },
  {
   "cell_type": "markdown",
   "metadata": {
    "Collapsed": "false"
   },
   "source": [
    "### 5. Étudier l'effet de primauté et récence"
   ]
  },
  {
   "cell_type": "code",
   "execution_count": 10,
   "metadata": {
    "Collapsed": "false"
   },
   "outputs": [
    {
     "data": {
      "image/png": "[encoded data removed]",
      "text/plain": [
       "<Figure size 720x576 with 1 Axes>"
      ]
     },
     "metadata": {
      "needs_background": "light"
     },
     "output_type": "display_data"
    },
    {
     "data": {
      "image/png": "[encoded data removed]",
      "text/plain": [
       "<Figure size 720x576 with 1 Axes>"
      ]
     },
     "metadata": {
      "needs_background": "light"
     },
     "output_type": "display_data"
    }
   ],
   "source": [
    "order_appear = results.loc[:, results.columns[1::3]].values[1:].reshape(-1)\n",
    "first_recall = results.loc[:, results.columns[2::3]].values[1:].reshape(-1)\n",
    "second_recall = results.loc[:, results.columns[3::3]].values[1:].reshape(-1)\n",
    "\n",
    "na_mask = np.vectorize(pd.isna)\n",
    "\n",
    "first_recalled = order_appear[~na_mask(first_recall)].astype(int)\n",
    "second_recalled = order_appear[~na_mask(second_recall)].astype(int)\n",
    "\n",
    "plt.figure(figsize=(10,8))\n",
    "sns.countplot(first_recalled, color='blue')\n",
    "plt.title(\"Effet de primauté et récence premier rappel\")\n",
    "plt.xlabel(\"Place d'apparition\")\n",
    "plt.ylabel(\"Nombre de fois rappelés\")\n",
    "plt.show()\n",
    "\n",
    "plt.figure(figsize=(10,8))\n",
    "sns.countplot(second_recalled, color='blue')\n",
    "plt.title(\"Effet de primauté et récence deuxième rappel\")\n",
    "plt.xlabel(\"Place d'apparition\")\n",
    "plt.ylabel(\"Nombre de fois rappelés\")\n",
    "plt.show()"
   ]
  },
  {
   "cell_type": "markdown",
   "metadata": {
    "Collapsed": "false"
   },
   "source": [
    "### 6. Regarder si certains objets sont plus cités que d'autres"
   ]
  },
  {
   "cell_type": "code",
   "execution_count": 11,
   "metadata": {
    "Collapsed": "false"
   },
   "outputs": [
    {
     "data": {
      "image/png": "[encoded data removed]",
      "text/plain": [
       "<Figure size 720x576 with 1 Axes>"
      ]
     },
     "metadata": {
      "needs_background": "light"
     },
     "output_type": "display_data"
    }
   ],
   "source": [
    "object_apperance = results.loc[1:, results.columns[2::3]].T\n",
    "object_apperance.columns = results.loc[1:, results.columns[0]]\n",
    "object_apperance = (~object_apperance.isnull()).sum()\n",
    "\n",
    "values = list(zip(object_apperance.index, object_apperance.values))\n",
    "values = list(sorted(values, key=lambda x: x[1]))\n",
    "items = [value[0] for value in values]\n",
    "counts = [value[1] for value in values]\n",
    "\n",
    "plt.figure(figsize=(10,8))\n",
    "plt.bar(items, counts)\n",
    "plt.xticks(rotation=90)\n",
    "plt.title(\"Nombre de rappels par objet premier passage\")\n",
    "plt.xlabel(\"Objet\")\n",
    "plt.ylabel(\"Nombre\")\n",
    "plt.show()"
   ]
  },
  {
   "cell_type": "code",
   "execution_count": 12,
   "metadata": {
    "Collapsed": "false"
   },
   "outputs": [
    {
     "data": {
      "image/png": "[encoded data removed]",
      "text/plain": [
       "<Figure size 720x576 with 1 Axes>"
      ]
     },
     "metadata": {
      "needs_background": "light"
     },
     "output_type": "display_data"
    }
   ],
   "source": [
    "object_apperance = results.loc[1:, results.columns[3::3]].T\n",
    "object_apperance.columns = results.loc[1:, results.columns[0]]\n",
    "object_apperance = (~object_apperance.isnull()).sum()\n",
    "\n",
    "values = list(zip(object_apperance.index, object_apperance.values))\n",
    "values = list(sorted(values, key=lambda x: x[1]))\n",
    "items = [value[0] for value in values]\n",
    "counts = [value[1] for value in values]\n",
    "\n",
    "plt.figure(figsize=(10,8))\n",
    "plt.bar(items, counts)\n",
    "plt.xticks(rotation=90)\n",
    "plt.title(\"Nombre de rappels par objet deuxième passage\")\n",
    "plt.xlabel(\"Objet\")\n",
    "plt.ylabel(\"Nombre\")\n",
    "plt.show()"
   ]
  },
  {
   "cell_type": "markdown",
   "metadata": {
    "Collapsed": "false"
   },
   "source": [
    "### 7. Si assez de femme, on peut regarder s'il y a une différence entre les genres...\n",
    "ça part"
   ]
  },
  {
   "cell_type": "markdown",
   "metadata": {
    "Collapsed": "false"
   },
   "source": [
    "### 8. Regarder objets (par exemple pomme) sont plus rappelés pendant la forêt ou le désert"
   ]
  },
  {
   "cell_type": "code",
   "execution_count": 13,
   "metadata": {
    "Collapsed": "false"
   },
   "outputs": [
    {
     "data": {
      "image/png": "[encoded data removed]",
      "text/plain": [
       "<Figure size 720x576 with 1 Axes>"
      ]
     },
     "metadata": {
      "needs_background": "light"
     },
     "output_type": "display_data"
    }
   ],
   "source": [
    "plt.figure(figsize=(10,8))\n",
    "\n",
    "for env in ['A', 'B']:\n",
    "    df = results.loc[1:, filter(lambda c: env in c, results.columns)]\n",
    "    df.reset_index(inplace=True)\n",
    "    df.index = results[results.columns[0]][1:]\n",
    "    df = (~df.T.isnull()).sum()\n",
    "     \n",
    "    label = \"Forêt\" if env == 'A' else 'Desert'\n",
    "    \n",
    "    plt.bar(df.index, df.values, alpha=0.5, label=label)\n",
    "\n",
    "plt.legend()\n",
    "plt.xticks(rotation=90)\n",
    "plt.title(\"Comparaison rappels objet par enironnement\")\n",
    "plt.xlabel(\"Objet\")\n",
    "plt.ylabel(\"Nombre\")\n",
    "plt.show()"
   ]
  },
  {
   "cell_type": "markdown",
   "metadata": {},
   "source": [
    "Séparer forêt-forêt, désert-désert, regarder si les gens sont meilleurs dans un contexte"
   ]
  },
  {
   "cell_type": "markdown",
   "metadata": {
    "Collapsed": "false"
   },
   "source": [
    "### 9. Regarder si les gens se rappellent de certaines catégories (par exemple tous les outils, tous les ustensiles, couleur, charactéristique commune), ou alors si tous les outils sont dits ensemble lors des rappels, etc..."
   ]
  },
  {
   "cell_type": "code",
   "execution_count": 14,
   "metadata": {
    "Collapsed": "false"
   },
   "outputs": [],
   "source": [
    "groups = {\n",
    "    'outils': ['Tournevis', 'Marteau'],\n",
    "    'cuisine': ['Théière', 'Poêle', 'Tasse'],\n",
    "    'fruits': ['Pomme', 'Ananas'],\n",
    "    'école': ['Scotch', 'Classeur', 'Calculatrice', 'Ciseaux', 'Livre'],\n",
    "    'ménager': ['Horloge', 'Ampoule'],\n",
    "    'lumière': ['Briquet', 'Ampoule', 'Lampe de poche']\n",
    "}"
   ]
  },
  {
   "cell_type": "markdown",
   "metadata": {
    "Collapsed": "false"
   },
   "source": [
    "#### Ecole"
   ]
  },
  {
   "cell_type": "code",
   "execution_count": 15,
   "metadata": {
    "Collapsed": "false"
   },
   "outputs": [
    {
     "data": {
      "image/png": "[encoded data removed]",
      "text/plain": [
       "<Figure size 720x576 with 1 Axes>"
      ]
     },
     "metadata": {
      "needs_background": "light"
     },
     "output_type": "display_data"
    },
    {
     "name": "stdout",
     "output_type": "stream",
     "text": [
      "Pourcentage de rappels de 3 objets ou plus:\n",
      "\tPour école: 74.29%\n",
      "\tPour aléatoire: 42.86%\n"
     ]
    }
   ],
   "source": [
    "np.random.seed(1)\n",
    "\n",
    "items = results.loc[1:, results.columns[0]]\n",
    "\n",
    "cluster_ecole = groups['école']\n",
    "cluster_random = np.random.choice(items, size=len(cluster_ecole), replace=False)\n",
    "\n",
    "first_recall = results.loc[1:, results.columns[2::3]].T\n",
    "first_recall.columns = results.loc[1:, results.columns[0]]\n",
    "first_recall = first_recall.loc[:, cluster_ecole]\n",
    "\n",
    "first_recall_random = results.loc[1:, results.columns[2::3]].T\n",
    "first_recall_random.columns = results.loc[1:, results.columns[0]]\n",
    "first_recall_random = first_recall_random.loc[:, cluster_random]\n",
    "\n",
    "size = len(first_recall)\n",
    "three = ((~first_recall.T.isnull()).sum() == 3).sum()\n",
    "four = ((~first_recall.T.isnull()).sum() == 4).sum()\n",
    "five = ((~first_recall.T.isnull()).sum() == 5).sum()\n",
    "percent = (three + four + five)/size\n",
    "\n",
    "three_random = ((~first_recall_random.T.isnull()).sum() == 3).sum()\n",
    "four_random = ((~first_recall_random.T.isnull()).sum() == 4).sum()\n",
    "five_random = ((~first_recall_random.T.isnull()).sum() == 5).sum()\n",
    "percent_random = (three_random + four_random + five_random)/size\n",
    "\n",
    "\n",
    "x = [3, 4, 5]\n",
    "heights = [three, four, five]\n",
    "heights_random = [three_random, four_random, five_random]\n",
    "\n",
    "plt.figure(figsize=(10,8))\n",
    "plt.bar(x, heights, label='Ecole', alpha=0.5)\n",
    "plt.bar(x, heights_random, label='Aléatoire', alpha=0.5)\n",
    "plt.xticks(x)\n",
    "plt.legend()\n",
    "plt.title(\"Nombre de rappels de 3 ou plus d'objets sur un groupe de 5 objets\")\n",
    "plt.xlabel(\"Nombre d'objets\")\n",
    "plt.ylabel(\"Nombre de rappels\")\n",
    "plt.show()\n",
    "print(f\"Pourcentage de rappels de 3 objets ou plus:\\n\\tPour école: {percent*100:.2f}%\\n\\tPour aléatoire: {percent_random*100:.2f}%\")"
   ]
  },
  {
   "cell_type": "markdown",
   "metadata": {},
   "source": [
    "Regarder si c'est le cas dans tous les contextes"
   ]
  },
  {
   "cell_type": "markdown",
   "metadata": {
    "Collapsed": "false"
   },
   "source": [
    "#### Outils"
   ]
  },
  {
   "cell_type": "code",
   "execution_count": 16,
   "metadata": {
    "Collapsed": "false"
   },
   "outputs": [
    {
     "data": {
      "image/png": "[encoded data removed]",
      "text/plain": [
       "<Figure size 720x576 with 1 Axes>"
      ]
     },
     "metadata": {
      "needs_background": "light"
     },
     "output_type": "display_data"
    },
    {
     "name": "stdout",
     "output_type": "stream",
     "text": [
      "Pourcentage de rappels consécutifs:\n",
      "\tPour outils: 22.86%\n",
      "\tPour aléatoire: 4.76%\n"
     ]
    }
   ],
   "source": [
    "np.random.seed(1)\n",
    "\n",
    "items = results.loc[1:, results.columns[0]]\n",
    "\n",
    "cluster_outils = groups['outils']\n",
    "\n",
    "first_recall = results.loc[1:, results.columns[2::3]].T\n",
    "first_recall.columns = results.loc[1:, results.columns[0]]\n",
    "first_recall = first_recall.loc[:, cluster_outils]\n",
    "\n",
    "size = len(first_recall)\n",
    "\n",
    "tournevis = first_recall['Tournevis'].fillna(-100).astype(int)\n",
    "marteau = first_recall['Marteau'].fillna(-100).astype(int)\n",
    "distances = tournevis - marteau\n",
    "counts = (np.abs(distances) == 1).sum()\n",
    "percent = counts / size\n",
    "\n",
    "x = [\"Outils\"]\n",
    "heights = [counts]\n",
    "\n",
    "for i in range(3):\n",
    "    cluster = np.random.choice(items, size=len(cluster_outils), replace=False)\n",
    "    first_recall = results.loc[1:, results.columns[2::3]].T\n",
    "    first_recall.columns = results.loc[1:, results.columns[0]]\n",
    "    first_recall = first_recall.loc[:, cluster]\n",
    "\n",
    "    objet0 = first_recall[cluster[0]].fillna(-100).astype(int)\n",
    "    objet1 = first_recall[cluster[1]].fillna(-100).astype(int)\n",
    "    distances = objet0 - objet1\n",
    "    counts = (np.abs(distances) == 1).sum()\n",
    "    \n",
    "    x.append(f\"Aléatoire {i+1}\")\n",
    "    heights.append(counts)\n",
    "\n",
    "plt.figure(figsize=(10,8))\n",
    "plt.bar(x, heights, alpha=0.9)\n",
    "plt.xticks(x)\n",
    "plt.title(\"Nombre de rappels consécutifs des outils (tournevis et marteau) comparés à des objets aléatoires\")\n",
    "plt.xlabel(\"Groupe d'objets\")\n",
    "plt.ylabel(\"Nombre\")\n",
    "plt.show()\n",
    "print(f\"Pourcentage de rappels consécutifs:\\n\\tPour outils: {percent*100:.2f}%\\n\\tPour aléatoire: {np.mean(heights[1:])/size*100:.2f}%\")"
   ]
  },
  {
   "cell_type": "markdown",
   "metadata": {},
   "source": [
    "Regarder si c'est le cas dans tous les contextes"
   ]
  }
 ],
 "metadata": {
  "kernelspec": {
   "display_name": "Python 3",
   "language": "python",
   "name": "python3"
  },
  "language_info": {
   "codemirror_mode": {
    "name": "ipython",
    "version": 3
   },
   "file_extension": ".py",
   "mimetype": "text/x-python",
   "name": "python",
   "nbconvert_exporter": "python",
   "pygments_lexer": "ipython3",
   "version": "3.7.6"
  }
 },
 "nbformat": 4,
 "nbformat_minor": 4
}
